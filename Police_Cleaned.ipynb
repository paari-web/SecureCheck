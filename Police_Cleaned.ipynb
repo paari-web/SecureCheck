{
 "cells": [
  {
   "cell_type": "code",
   "execution_count": null,
   "id": "136cab76",
   "metadata": {},
   "outputs": [],
   "source": [
    "import mysql.connector\n",
    "mydb = mysql.connector.connect(\n",
    " host=\"localhost\",\n",
    " user=\"root\",\n",
    " password=\"\",\n",
    ")\n",
    "print(mydb)\n",
    "mycursor = mydb.cursor(buffered=True)"
   ]
  },
  {
   "cell_type": "code",
   "execution_count": null,
   "id": "9223dad7",
   "metadata": {},
   "outputs": [],
   "source": [
    "import pandas as pd\n",
    "\n",
    "file_path = r'C:\\Users\\sivar\\Downloads\\traffic_stops - traffic_stops_with_vehicle_number.csv'\n",
    "df = pd.read_csv(file_path)"
   ]
  },
  {
   "cell_type": "code",
   "execution_count": null,
   "id": "4e670de2",
   "metadata": {},
   "outputs": [],
   "source": [
    "df"
   ]
  },
  {
   "cell_type": "code",
   "execution_count": null,
   "id": "164caf54",
   "metadata": {},
   "outputs": [],
   "source": [
    "print(df.columns[10])"
   ]
  },
  {
   "cell_type": "code",
   "execution_count": null,
   "id": "c1adbf3b",
   "metadata": {},
   "outputs": [],
   "source": [
    "print(df.dtypes)"
   ]
  },
  {
   "cell_type": "code",
   "execution_count": null,
   "id": "c1deb7fd",
   "metadata": {},
   "outputs": [],
   "source": [
    "print(df['search_type'].unique())"
   ]
  },
  {
   "cell_type": "code",
   "execution_count": null,
   "id": "7306c4b3",
   "metadata": {},
   "outputs": [],
   "source": [
    "df['search_type'] = df['search_type'].fillna('No Search')\n",
    "print(df['search_type'].unique())"
   ]
  },
  {
   "cell_type": "code",
   "execution_count": null,
   "id": "56c7822a",
   "metadata": {},
   "outputs": [],
   "source": [
    "print(df['search_type'].value_counts(dropna=False))"
   ]
  },
  {
   "cell_type": "code",
   "execution_count": null,
   "id": "d1078ca1",
   "metadata": {},
   "outputs": [],
   "source": [
    "print(df[['search_type']].head(10))  # First 10 rows\n"
   ]
  },
  {
   "cell_type": "code",
   "execution_count": null,
   "id": "70309e7b",
   "metadata": {},
   "outputs": [],
   "source": [
    "display(df)"
   ]
  },
  {
   "cell_type": "code",
   "execution_count": null,
   "id": "c0886652",
   "metadata": {},
   "outputs": [],
   "source": [
    "df.to_csv(r'C:\\Users\\sivar\\Downloads\\traffic_stops_cleaned.csv', index=False)\n"
   ]
  },
  {
   "cell_type": "code",
   "execution_count": null,
   "id": "1d294559",
   "metadata": {},
   "outputs": [],
   "source": [
    "import pandas as pd\n",
    "\n",
    "# Load your data\n",
    "df = pd.read_csv(r'C:\\Users\\sivar\\Downloads\\traffic_stops_cleaned.csv')\n",
    "\n",
    "# Drop the unnecessary columns\n",
    "df = df.drop(columns=['driver_age_raw', 'violation_raw'])\n",
    "\n",
    "# Save cleaned dataset\n",
    "df.to_csv(r'C:\\Users\\sivar\\Downloads\\traffic_stops_final.csv', index=False)\n",
    "\n",
    "print('Removed redundant columns and saved as traffic_stops_final.csv')"
   ]
  },
  {
   "cell_type": "code",
   "execution_count": null,
   "id": "81023bc0",
   "metadata": {},
   "outputs": [],
   "source": [
    "import pandas as pd\n",
    "\n",
    "file_path = r'C:\\Users\\sivar\\Downloads\\traffic_stops_final.csv'\n",
    "df = pd.read_csv(file_path)\n"
   ]
  },
  {
   "cell_type": "code",
   "execution_count": null,
   "id": "d9ea879b",
   "metadata": {},
   "outputs": [],
   "source": [
    "df"
   ]
  },
  {
   "cell_type": "code",
   "execution_count": null,
   "id": "13e3c17f",
   "metadata": {},
   "outputs": [],
   "source": [
    "print(df.duplicated().sum())"
   ]
  },
  {
   "cell_type": "code",
   "execution_count": null,
   "id": "0ee94415",
   "metadata": {},
   "outputs": [],
   "source": [
    "df['stop_date'] = pd.to_datetime(df['stop_date'], errors='coerce')\n",
    "df['stop_time'] = pd.to_datetime(df['stop_time'], format='%H:%M', errors='coerce').dt.time\n"
   ]
  },
  {
   "cell_type": "code",
   "execution_count": null,
   "id": "7671a78f",
   "metadata": {},
   "outputs": [],
   "source": [
    "df\n"
   ]
  },
  {
   "cell_type": "code",
   "execution_count": null,
   "id": "4883a9a8",
   "metadata": {},
   "outputs": [],
   "source": [
    "print(df['stop_date'].isna().sum())\n",
    "print(df['stop_time'].isna().sum())\n"
   ]
  },
  {
   "cell_type": "code",
   "execution_count": null,
   "id": "350b13dd",
   "metadata": {},
   "outputs": [],
   "source": [
    "df['stop_time'] = pd.to_datetime(\n",
    "    df['stop_time'], errors='coerce'\n",
    ").dt.time"
   ]
  },
  {
   "cell_type": "code",
   "execution_count": null,
   "id": "aa88bc51",
   "metadata": {},
   "outputs": [],
   "source": [
    "df"
   ]
  },
  {
   "cell_type": "code",
   "execution_count": null,
   "id": "8c347a18",
   "metadata": {},
   "outputs": [],
   "source": [
    "original_times = pd.read_csv(file_path, usecols=['stop_time'])\n",
    "df['stop_time'] = original_times['stop_time']"
   ]
  },
  {
   "cell_type": "code",
   "execution_count": null,
   "id": "5b4bf799",
   "metadata": {},
   "outputs": [],
   "source": [
    "df"
   ]
  },
  {
   "cell_type": "code",
   "execution_count": null,
   "id": "a97e7331",
   "metadata": {},
   "outputs": [],
   "source": [
    "print(df['stop_time'].head(10))"
   ]
  },
  {
   "cell_type": "code",
   "execution_count": null,
   "id": "8a2101a1",
   "metadata": {},
   "outputs": [],
   "source": [
    "df['stop_time'] = pd.to_datetime(\n",
    "    df['stop_time'],\n",
    "    errors='coerce'\n",
    ").dt.time\n"
   ]
  },
  {
   "cell_type": "code",
   "execution_count": null,
   "id": "96c0db5e",
   "metadata": {},
   "outputs": [],
   "source": [
    "df['stop_time'] = pd.to_datetime(\n",
    "    df['stop_time'],\n",
    "    format='%H:%M:%S',\n",
    "    errors='coerce'\n",
    ").dt.time\n"
   ]
  },
  {
   "cell_type": "code",
   "execution_count": null,
   "id": "188c51a3",
   "metadata": {},
   "outputs": [],
   "source": [
    "print(df['stop_time'].head(10))"
   ]
  },
  {
   "cell_type": "code",
   "execution_count": null,
   "id": "2355ee61",
   "metadata": {},
   "outputs": [],
   "source": [
    "print(type(df['stop_time'].iloc[0]))"
   ]
  },
  {
   "cell_type": "code",
   "execution_count": null,
   "id": "f5596141",
   "metadata": {},
   "outputs": [],
   "source": [
    "df.to_csv(r'C:\\Users\\sivar\\Downloads\\traffic_stops_final2.csv', index=False)"
   ]
  },
  {
   "cell_type": "code",
   "execution_count": null,
   "id": "1f356d58",
   "metadata": {},
   "outputs": [],
   "source": [
    "df = df[(df['driver_age'] >= 16) & (df['driver_age'] <= 100)]\n"
   ]
  },
  {
   "cell_type": "code",
   "execution_count": null,
   "id": "98677724",
   "metadata": {},
   "outputs": [],
   "source": [
    "df[df['driver_age'] >70]\n"
   ]
  },
  {
   "cell_type": "code",
   "execution_count": null,
   "id": "d9edc619",
   "metadata": {},
   "outputs": [],
   "source": [
    "df.isnull().sum()\n",
    "\n"
   ]
  },
  {
   "cell_type": "code",
   "execution_count": null,
   "id": "75417e5f",
   "metadata": {},
   "outputs": [],
   "source": [
    "df.to_csv(r'C:\\Users\\sivar\\Downloads\\traffic_stops_final3.csv', index=False)"
   ]
  },
  {
   "cell_type": "code",
   "execution_count": null,
   "id": "ab729fc0",
   "metadata": {},
   "outputs": [],
   "source": [
    "\n"
   ]
  },
  {
   "cell_type": "code",
   "execution_count": null,
   "id": "7b87eb2d",
   "metadata": {},
   "outputs": [],
   "source": [
    "import pandas as pd\n",
    "\n",
    "file_path = r'C:\\Users\\sivar\\Downloads\\traffic_stops_final9.csv'\n",
    "df = pd.read_csv(file_path)"
   ]
  },
  {
   "cell_type": "code",
   "execution_count": null,
   "id": "e0279e2b",
   "metadata": {},
   "outputs": [],
   "source": [
    "df"
   ]
  },
  {
   "cell_type": "code",
   "execution_count": null,
   "id": "0c966f5a",
   "metadata": {},
   "outputs": [],
   "source": [
    "df['stop_outcome'].value_counts()\n"
   ]
  },
  {
   "cell_type": "code",
   "execution_count": null,
   "id": "48788e38",
   "metadata": {},
   "outputs": [],
   "source": [
    "df = df.drop(columns=['search_conducted', 'is_arrested'])"
   ]
  },
  {
   "cell_type": "code",
   "execution_count": null,
   "id": "a934d821",
   "metadata": {},
   "outputs": [],
   "source": [
    "df"
   ]
  },
  {
   "cell_type": "code",
   "execution_count": null,
   "id": "af45c2d6",
   "metadata": {},
   "outputs": [],
   "source": [
    "df.to_csv(r'C:\\Users\\sivar\\Downloads\\traffic_stops_final10.csv', index=False)"
   ]
  },
  {
   "cell_type": "code",
   "execution_count": null,
   "id": "dc6668f3",
   "metadata": {},
   "outputs": [],
   "source": [
    "df.info()"
   ]
  },
  {
   "cell_type": "code",
   "execution_count": null,
   "id": "012d362d",
   "metadata": {},
   "outputs": [],
   "source": [
    "print(type(df['stop_time'].iloc[0]))"
   ]
  },
  {
   "cell_type": "code",
   "execution_count": null,
   "id": "675dfcc7",
   "metadata": {},
   "outputs": [],
   "source": [
    "df['stop_date'] = pd.to_datetime(df['stop_date']).dt.date\n"
   ]
  },
  {
   "cell_type": "code",
   "execution_count": null,
   "id": "8908d097",
   "metadata": {},
   "outputs": [],
   "source": [
    "df['stop_time'] = pd.to_datetime(df['stop_time']).dt.time\n"
   ]
  },
  {
   "cell_type": "code",
   "execution_count": null,
   "id": "fa643cee",
   "metadata": {},
   "outputs": [],
   "source": [
    "df"
   ]
  },
  {
   "cell_type": "code",
   "execution_count": null,
   "id": "ded24c7d",
   "metadata": {},
   "outputs": [],
   "source": [
    "import mysql.connector\n",
    "mydb = mysql.connector.connect(\n",
    " host=\"localhost\",\n",
    " user=\"root\",\n",
    " password=\"\",\n",
    ")\n",
    "print(mydb)\n",
    "mycursor = mydb.cursor(buffered=True)"
   ]
  },
  {
   "cell_type": "code",
   "execution_count": null,
   "id": "51811a2f",
   "metadata": {},
   "outputs": [],
   "source": [
    "import pandas as pd\n",
    "\n",
    "\n",
    "# 1️⃣ Load CSV\n",
    "df = pd.read_csv( r'C:\\Users\\sivar\\Downloads\\traffic_stops_final10.csv')\n",
    "\n",
    "\n",
    "\n",
    "\n",
    "\n",
    "# 4️⃣ Create database if not exists\n",
    "mycursor.execute(\"CREATE DATABASE IF NOT EXISTS police\")\n",
    "mycursor.execute(\"USE police\")\n",
    "\n",
    "# 5️⃣ Create table if not exists\n",
    "create_table_query = \"\"\"\n",
    "CREATE TABLE IF NOT EXISTS traffic_stops (\n",
    "    stop_date DATE,\n",
    "    stop_time TIME,\n",
    "    country_name VARCHAR(50),\n",
    "    driver_gender CHAR(1),\n",
    "    driver_age INT,\n",
    "    driver_race VARCHAR(50),\n",
    "    violation VARCHAR(100),\n",
    "    search_type VARCHAR(100),\n",
    "    stop_outcome VARCHAR(100),\n",
    "    stop_duration VARCHAR(20),\n",
    "    drugs_related_stop BOOLEAN,\n",
    "    vehicle_number VARCHAR(20)\n",
    ");\n",
    "\"\"\"\n",
    "mycursor.execute(create_table_query)\n",
    "\n",
    "# 6️⃣ Insert rows\n",
    "insert_query = \"\"\"\n",
    "INSERT INTO traffic_stops (\n",
    "    stop_date,\n",
    "    stop_time,\n",
    "    country_name,\n",
    "    driver_gender,\n",
    "    driver_age,\n",
    "    driver_race,\n",
    "    violation,\n",
    "    search_type,\n",
    "    stop_outcome,\n",
    "    stop_duration,\n",
    "    drugs_related_stop,\n",
    "    vehicle_number\n",
    ") VALUES (%s, %s, %s, %s, %s, %s, %s, %s, %s, %s, %s, %s)\n",
    "\"\"\"\n",
    "\n",
    "for index, row in df.iterrows():\n",
    "    mycursor.execute(insert_query, (\n",
    "        row['stop_date'],\n",
    "        row['stop_time'],\n",
    "        row['country_name'],\n",
    "        row['driver_gender'],\n",
    "        row['driver_age'],\n",
    "        row['driver_race'],\n",
    "        row['violation'],\n",
    "        row['search_type'],\n",
    "        row['stop_outcome'],\n",
    "        row['stop_duration'],\n",
    "        row['drugs_related_stop'],\n",
    "        row['vehicle_number']\n",
    "    ))\n",
    "\n",
    "mydb.commit()\n",
    "mycursor.close()\n",
    "mydb.close()\n",
    "\n",
    "print(\"✅ Data inserted into 'police.traffic_stops' successfully.\")\n"
   ]
  },
  {
   "cell_type": "code",
   "execution_count": null,
   "id": "882eeb09",
   "metadata": {},
   "outputs": [],
   "source": [
    "import pandas as pd\n",
    "df = pd.read_csv( r'C:\\Users\\sivar\\Downloads\\traffic_stops_final10.csv')\n"
   ]
  },
  {
   "cell_type": "code",
   "execution_count": null,
   "id": "fe9c5272",
   "metadata": {},
   "outputs": [],
   "source": [
    "print(df.isnull().sum())\n"
   ]
  },
  {
   "cell_type": "code",
   "execution_count": null,
   "id": "43295bb4",
   "metadata": {},
   "outputs": [],
   "source": []
  }
 ],
 "metadata": {
  "kernelspec": {
   "display_name": "Python 3",
   "language": "python",
   "name": "python3"
  },
  "language_info": {
   "codemirror_mode": {
    "name": "ipython",
    "version": 3
   },
   "file_extension": ".py",
   "mimetype": "text/x-python",
   "name": "python",
   "nbconvert_exporter": "python",
   "pygments_lexer": "ipython3",
   "version": "3.12.7"
  }
 },
 "nbformat": 4,
 "nbformat_minor": 5
}
